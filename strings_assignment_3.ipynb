{
  "nbformat": 4,
  "nbformat_minor": 0,
  "metadata": {
    "colab": {
      "provenance": [],
      "include_colab_link": true
    },
    "kernelspec": {
      "name": "python3",
      "display_name": "Python 3"
    },
    "language_info": {
      "name": "python"
    }
  },
  "cells": [
    {
      "cell_type": "markdown",
      "metadata": {
        "id": "view-in-github",
        "colab_type": "text"
      },
      "source": [
        "<a href=\"https://colab.research.google.com/github/giri8790/DataScience/blob/main/strings_assignment_3.ipynb\" target=\"_parent\"><img src=\"https://colab.research.google.com/assets/colab-badge.svg\" alt=\"Open In Colab\"/></a>"
      ]
    },
    {
      "cell_type": "markdown",
      "source": [
        "1.Write a Python program to count the number of vowels in a string.\n",
        "\n",
        "input : hasdfgeuionhjl"
      ],
      "metadata": {
        "id": "q8RkYTES1QUW"
      }
    },
    {
      "cell_type": "code",
      "source": [
        "# write your code here\n",
        "a=input()\n",
        "a=a.lower()\n",
        "b=0\n",
        "for i in a:\n",
        "  if i==\"a\" or i==\"e\" or i==\"i\" or i==\"o\"or i==\"u\":\n",
        "    b+=1\n",
        "print(b)"
      ],
      "metadata": {
        "id": "UHi6ezjV1X0s",
        "colab": {
          "base_uri": "https://localhost:8080/"
        },
        "outputId": "f0da5fc0-7d9e-4822-9ab8-309011350b5b"
      },
      "execution_count": null,
      "outputs": [
        {
          "output_type": "stream",
          "name": "stdout",
          "text": [
            "hasdfgeuionhjl\n",
            "5\n"
          ]
        }
      ]
    },
    {
      "cell_type": "markdown",
      "source": [
        "2.Write a Python program to count the occurrences of each word in a sentence.\n",
        "\n",
        "input : hi hello hi and and hi more and more programming"
      ],
      "metadata": {
        "id": "v7GBEK161QWy"
      }
    },
    {
      "cell_type": "code",
      "source": [
        "# write your code here\n",
        "a=input().split(\" \")\n",
        "b=[]\n",
        "for i in range(len(a)):\n",
        "    if [a[i],a.count(a[i])] in b:\n",
        "        pass\n",
        "    else:\n",
        "        b.append([a[i],a.count(a[i])])\n",
        "        print(a[i],a.count(a[i]))\n",
        "\n"
      ],
      "metadata": {
        "id": "R-UzDybK1uZo",
        "colab": {
          "base_uri": "https://localhost:8080/"
        },
        "outputId": "f7d6d62f-4300-471e-d66d-be5bd83a171a"
      },
      "execution_count": null,
      "outputs": [
        {
          "output_type": "stream",
          "name": "stdout",
          "text": [
            "hi hello hi and and hi more and more programming\n",
            "hi 3\n",
            "hello 1\n",
            "and 3\n",
            "more 2\n",
            "programming 1\n"
          ]
        }
      ]
    },
    {
      "cell_type": "markdown",
      "source": [
        "3.In python how can you differentiate strings and lists. Give atleast 5 different comparisons between them."
      ],
      "metadata": {
        "id": "evCcw-0H1QY9"
      }
    },
    {
      "cell_type": "markdown",
      "source": [
        "String:                              \n",
        "1.Immutable                           \n",
        "2.Contains only characters            \n",
        "3.Concatenation creates a new string  \n",
        "4.Iterating over a string gives characters\n",
        "\n",
        "5.String have methods like upper()and lower()                  \n",
        "\n",
        "List:\n",
        "\n",
        "1.Mutable                                                                                  \n",
        "2.\n",
        "Contain different data types\n",
        "\n",
        "3.\n",
        "Concatenation creates a new list\n",
        "\n",
        "4.\n",
        "Iterating over a list gives elements\n",
        "\n",
        "5.List have methods like append() and insert()\n",
        "\n"
      ],
      "metadata": {
        "id": "Vz6g4_Emvple"
      }
    },
    {
      "cell_type": "markdown",
      "source": [
        "4.Write a string for your own of approximately 40 in length and perform any 5 different string operations on that."
      ],
      "metadata": {
        "id": "riR1PWxG1Qdq"
      }
    },
    {
      "cell_type": "code",
      "source": [
        "#Write your code here\n",
        "a=\"abcvdfgshjbhsbdyebdcjbsjhegyducbbjsehfcd\"\n",
        "print(len(a))\n",
        "print(a[3])\n",
        "print(a[5:10])\n",
        "print(a+a)\n",
        "print(a.upper())"
      ],
      "metadata": {
        "id": "3bHyrDS12e8i",
        "colab": {
          "base_uri": "https://localhost:8080/"
        },
        "outputId": "4fedb636-c542-45cd-9ebe-0978b0ad07f9"
      },
      "execution_count": null,
      "outputs": [
        {
          "output_type": "stream",
          "name": "stdout",
          "text": [
            "40\n",
            "v\n",
            "fgshj\n",
            "abcvdfgshjbhsbdyebdcjbsjhegyducbbjsehfcdabcvdfgshjbhsbdyebdcjbsjhegyducbbjsehfcd\n",
            "ABCVDFGSHJBHSBDYEBDCJBSJHEGYDUCBBJSEHFCD\n"
          ]
        }
      ]
    },
    {
      "cell_type": "markdown",
      "source": [
        "5.Explain the concatination in strings with a neat example."
      ],
      "metadata": {
        "id": "bbUm7VVN1Qfu"
      }
    },
    {
      "cell_type": "code",
      "source": [
        "#write your code and explanation here\n",
        "a=\"Hello\"\n",
        "b=\"World\"\n",
        "print(a+b)\n",
        "#In the above code two different string can be combined with the help of concatination.This is about cncatination."
      ],
      "metadata": {
        "id": "y9292Q452tF0",
        "colab": {
          "base_uri": "https://localhost:8080/"
        },
        "outputId": "e8604475-5b37-47cf-bfd0-ee13a2b35184"
      },
      "execution_count": null,
      "outputs": [
        {
          "output_type": "stream",
          "name": "stdout",
          "text": [
            "HelloWorld\n"
          ]
        }
      ]
    },
    {
      "cell_type": "code",
      "source": [],
      "metadata": {
        "id": "vnMNtJgq2xuG"
      },
      "execution_count": null,
      "outputs": []
    }
  ]
}