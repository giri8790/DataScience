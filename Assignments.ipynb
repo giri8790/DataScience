{
  "cells": [
    {
      "cell_type": "markdown",
      "metadata": {
        "id": "view-in-github",
        "colab_type": "text"
      },
      "source": [
        "<a href=\"https://colab.research.google.com/github/giri8790/DataScience/blob/main/Assignments.ipynb\" target=\"_parent\"><img src=\"https://colab.research.google.com/assets/colab-badge.svg\" alt=\"Open In Colab\"/></a>"
      ]
    },
    {
      "cell_type": "code",
      "execution_count": null,
      "metadata": {
        "id": "khgb8uqOgwcj"
      },
      "outputs": [],
      "source": [
        "#Consider the string given below and answer the following questions\n",
        "string = \"OQYWFClFhFGAvIWYwGKpmZhnJiyzTslSIhSwvOsqJMEphzmifTkyqOMNpnOtXZxmCfgDYqbaBHAUvIWhMnvwZnEMVDvmEfLrDoQnAZgQEgXQVnmSYkfedpAdhrtpOgORpYLRZYGWdhWYuqQssCUXtTzKRDAhpjUheOzUroZNzWFtZOVwIapzUYtbSbjYNErzQ\"\n"
      ]
    },
    {
      "cell_type": "markdown",
      "metadata": {
        "id": "DkK12Clugwcm"
      },
      "source": [
        "####  Calculate the number of characters in the string\n",
        "\n",
        "-  193\n",
        "-  200\n",
        "-  300\n",
        "-  500\n"
      ]
    },
    {
      "cell_type": "code",
      "execution_count": null,
      "metadata": {
        "colab": {
          "base_uri": "https://localhost:8080/"
        },
        "id": "Kx9ycPBigwco",
        "outputId": "64b7ae38-2635-4ce6-eeaf-aa4f71f726b8"
      },
      "outputs": [
        {
          "output_type": "stream",
          "name": "stdout",
          "text": [
            "193\n"
          ]
        }
      ],
      "source": [
        "# Type your code here\n",
        "string = \"OQYWFClFhFGAvIWYwGKpmZhnJiyzTslSIhSwvOsqJMEphzmifTkyqOMNpnOtXZxmCfgDYqbaBHAUvIWhMnvwZnEMVDvmEfLrDoQnAZgQEgXQVnmSYkfedpAdhrtpOgORpYLRZYGWdhWYuqQssCUXtTzKRDAhpjUheOzUroZNzWFtZOVwIapzUYtbSbjYNErzQ\"\n",
        "print(len(string))"
      ]
    },
    {
      "cell_type": "markdown",
      "metadata": {
        "id": "HH0dxZm_gwcp"
      },
      "source": [
        "#### Count the number of occurences of 'a' in the string\n",
        "\n",
        "-  1\n",
        "-  2\n",
        "-  10\n",
        "-  5"
      ]
    },
    {
      "cell_type": "code",
      "execution_count": null,
      "metadata": {
        "colab": {
          "base_uri": "https://localhost:8080/"
        },
        "id": "Hai_Bc-kgwcp",
        "outputId": "f17fc590-bc94-4894-8626-a2d0b5cbcb49"
      },
      "outputs": [
        {
          "output_type": "stream",
          "name": "stdout",
          "text": [
            "2\n"
          ]
        }
      ],
      "source": [
        "# Type your code here\n",
        "string = \"OQYWFClFhFGAvIWYwGKpmZhnJiyzTslSIhSwvOsqJMEphzmifTkyqOMNpnOtXZxmCfgDYqbaBHAUvIWhMnvwZnEMVDvmEfLrDoQnAZgQEgXQVnmSYkfedpAdhrtpOgORpYLRZYGWdhWYuqQssCUXtTzKRDAhpjUheOzUroZNzWFtZOVwIapzUYtbSbjYNErzQ\"\n",
        "print(string.count(\"a\"))"
      ]
    },
    {
      "cell_type": "markdown",
      "metadata": {
        "id": "a_KyD-VWgwcq"
      },
      "source": [
        "#### Identify whether the string starts with 'if'.\n",
        "\n",
        "-  True\n",
        "-  False"
      ]
    },
    {
      "cell_type": "code",
      "execution_count": null,
      "metadata": {
        "colab": {
          "base_uri": "https://localhost:8080/"
        },
        "id": "Moy0MUg3gwcq",
        "outputId": "a143f87e-43be-4db8-cecd-06e2059796ec"
      },
      "outputs": [
        {
          "output_type": "stream",
          "name": "stdout",
          "text": [
            "False\n"
          ]
        }
      ],
      "source": [
        "# Type your code here\n",
        "string = \"OQYWFClFhFGAvIWYwGKpmZhnJiyzTslSIhSwvOsqJMEphzmifTkyqOMNpnOtXZxmCfgDYqbaBHAUvIWhMnvwZnEMVDvmEfLrDoQnAZgQEgXQVnmSYkfedpAdhrtpOgORpYLRZYGWdhWYuqQssCUXtTzKRDAhpjUheOzUroZNzWFtZOVwIapzUYtbSbjYNErzQ\"\n",
        "print(string.startswith(\"if\"))"
      ]
    },
    {
      "cell_type": "markdown",
      "metadata": {
        "id": "6lrrhsYqgwcr"
      },
      "source": [
        "#### Return the substring starting at index 63 and ending at index 88  [Both the indexes are inclusive]\n",
        "\n",
        "-  'OQYWFClFhFGA'\n",
        "-  'mCfgDYqbaBHAUvIWhMnvwZnEMV'\n",
        "-  'IWYwGKpmZhnJiyzTslSIhSwv'\n",
        "-  'JMEphzmifTkyqOMNpnOtXZ'"
      ]
    },
    {
      "cell_type": "code",
      "execution_count": null,
      "metadata": {
        "collapsed": true,
        "colab": {
          "base_uri": "https://localhost:8080/"
        },
        "id": "wpBq1LkMgwcr",
        "outputId": "4e00494e-dc1c-4321-82ad-9ebee560a4db"
      },
      "outputs": [
        {
          "output_type": "stream",
          "name": "stdout",
          "text": [
            "mCfgDYqbaBHAUvIWhMnvwZnEM\n"
          ]
        }
      ],
      "source": [
        "# Type your code here\n",
        "string = \"OQYWFClFhFGAvIWYwGKpmZhnJiyzTslSIhSwvOsqJMEphzmifTkyqOMNpnOtXZxmCfgDYqbaBHAUvIWhMnvwZnEMVDvmEfLrDoQnAZgQEgXQVnmSYkfedpAdhrtpOgORpYLRZYGWdhWYuqQssCUXtTzKRDAhpjUheOzUroZNzWFtZOVwIapzUYtbSbjYNErzQ\"\n",
        "print(string[63:88])"
      ]
    },
    {
      "cell_type": "markdown",
      "metadata": {
        "id": "5ZalsL42gwct"
      },
      "source": [
        "#### Identify the character at index 45\n",
        "\n",
        "-  a\n",
        "-  b\n",
        "-  z\n",
        "-  x"
      ]
    },
    {
      "cell_type": "code",
      "execution_count": null,
      "metadata": {
        "colab": {
          "base_uri": "https://localhost:8080/"
        },
        "id": "WbQS52pugwcu",
        "outputId": "91983988-3fb7-4223-b6d5-a44f72f9df08"
      },
      "outputs": [
        {
          "output_type": "stream",
          "name": "stdout",
          "text": [
            "z\n"
          ]
        }
      ],
      "source": [
        "# Type your code here\n",
        "string = \"OQYWFClFhFGAvIWYwGKpmZhnJiyzTslSIhSwvOsqJMEphzmifTkyqOMNpnOtXZxmCfgDYqbaBHAUvIWhMnvwZnEMVDvmEfLrDoQnAZgQEgXQVnmSYkfedpAdhrtpOgORpYLRZYGWdhWYuqQssCUXtTzKRDAhpjUheOzUroZNzWFtZOVwIapzUYtbSbjYNErzQ\"\n",
        "print(string[45])"
      ]
    },
    {
      "cell_type": "code",
      "execution_count": null,
      "metadata": {
        "collapsed": true,
        "id": "EH92LGVsgwcu"
      },
      "outputs": [],
      "source": []
    }
  ],
  "metadata": {
    "kernelspec": {
      "display_name": "Python 3",
      "language": "python",
      "name": "python3"
    },
    "language_info": {
      "codemirror_mode": {
        "name": "ipython",
        "version": 3
      },
      "file_extension": ".py",
      "mimetype": "text/x-python",
      "name": "python",
      "nbconvert_exporter": "python",
      "pygments_lexer": "ipython3",
      "version": "3.7.3"
    },
    "colab": {
      "provenance": [],
      "include_colab_link": true
    }
  },
  "nbformat": 4,
  "nbformat_minor": 0
}